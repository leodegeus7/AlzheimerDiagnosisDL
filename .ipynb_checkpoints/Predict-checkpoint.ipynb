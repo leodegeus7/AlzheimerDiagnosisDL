{
 "cells": [
  {
   "cell_type": "code",
   "execution_count": 1,
   "metadata": {},
   "outputs": [
    {
     "name": "stderr",
     "output_type": "stream",
     "text": [
      "Using TensorFlow backend.\n"
     ]
    }
   ],
   "source": [
    "from keras.models import Sequential\n",
    "from keras.layers import Conv2D\n",
    "from keras.layers import MaxPooling2D\n",
    "from keras.layers import Flatten\n",
    "from keras.layers import Dense\n",
    "from keras.layers import Activation, Dropout\n",
    "from keras import backend as K\n"
   ]
  },
  {
   "cell_type": "code",
   "execution_count": 2,
   "metadata": {},
   "outputs": [],
   "source": [
    "epochs = 50\n",
    "batch_size = 16\n",
    "\n",
    "img_width, img_height = 257, 170\n",
    "\n",
    "if K.image_data_format() == 'channels_first':\n",
    "    input_shape = (3, img_width, img_height)\n",
    "else:\n",
    "    input_shape = (img_width, img_height, 3)"
   ]
  },
  {
   "cell_type": "code",
   "execution_count": 3,
   "metadata": {},
   "outputs": [
    {
     "data": {
      "text/plain": [
       "(257, 170, 3)"
      ]
     },
     "execution_count": 3,
     "metadata": {},
     "output_type": "execute_result"
    }
   ],
   "source": [
    "input_shape"
   ]
  },
  {
   "cell_type": "code",
   "execution_count": 4,
   "metadata": {},
   "outputs": [],
   "source": [
    "classifier = Sequential()\n",
    "classifier.add(Conv2D(32, (3, 3), input_shape=input_shape))\n",
    "classifier.add(Activation('relu'))\n",
    "classifier.add(MaxPooling2D(pool_size=(2, 2)))\n",
    "\n",
    "classifier.add(Conv2D(32, (3, 3)))\n",
    "classifier.add(Activation('relu'))\n",
    "classifier.add(MaxPooling2D(pool_size=(2, 2)))\n",
    "\n",
    "classifier.add(Conv2D(64, (3, 3)))\n",
    "classifier.add(Activation('relu'))\n",
    "classifier.add(MaxPooling2D(pool_size=(2, 2)))\n",
    "\n",
    "classifier.add(Flatten())\n",
    "classifier.add(Dense(64))\n",
    "classifier.add(Activation('relu'))\n",
    "classifier.add(Dropout(0.5))\n",
    "classifier.add(Dense(1))\n",
    "classifier.add(Activation('sigmoid'))\n",
    "\n",
    "classifier.compile(loss='binary_crossentropy',\n",
    "              optimizer='rmsprop',\n",
    "              metrics=['accuracy'])"
   ]
  },
  {
   "cell_type": "code",
   "execution_count": 7,
   "metadata": {},
   "outputs": [
    {
     "name": "stdout",
     "output_type": "stream",
     "text": [
      "Found 512 images belonging to 2 classes.\n",
      "Found 51 images belonging to 2 classes.\n"
     ]
    }
   ],
   "source": [
    "from keras.preprocessing.image import ImageDataGenerator\n",
    "\n",
    "train_datagen = ImageDataGenerator(rescale = 1./255,\n",
    "                                   shear_range = 0.2,\n",
    "                                   zoom_range = 0.2,\n",
    "                                   horizontal_flip = True)\n",
    "\n",
    "test_datagen = ImageDataGenerator(rescale = 1./255)\n",
    "\n",
    "training_set = train_datagen.flow_from_directory('ProcessedImage/training_set',\n",
    "                                                 target_size = (img_width, img_height),\n",
    "                                                 batch_size = batch_size,\n",
    "                                                 class_mode = 'binary')\n",
    "\n",
    "test_set = test_datagen.flow_from_directory('ProcessedImage/test_set',\n",
    "                                            target_size = (img_width, img_height),\n",
    "                                            batch_size = batch_size,\n",
    "                                            class_mode = 'binary')"
   ]
  },
  {
   "cell_type": "code",
   "execution_count": 12,
   "metadata": {},
   "outputs": [],
   "source": [
    "nb_train_samples = 512\n",
    "nb_validation_samples = 51\n"
   ]
  },
  {
   "cell_type": "code",
   "execution_count": 13,
   "metadata": {},
   "outputs": [
    {
     "name": "stdout",
     "output_type": "stream",
     "text": [
      "Epoch 1/50\n",
      "32/32 [==============================] - 44s 1s/step - loss: 0.6922 - acc: 0.5879 - val_loss: 0.6872 - val_acc: 0.5833\n",
      "Epoch 2/50\n",
      "32/32 [==============================] - 38s 1s/step - loss: 0.6716 - acc: 0.6152 - val_loss: 0.6550 - val_acc: 0.7292\n",
      "Epoch 3/50\n",
      "32/32 [==============================] - 34s 1s/step - loss: 0.6687 - acc: 0.6270 - val_loss: 0.6540 - val_acc: 0.7292\n",
      "Epoch 4/50\n",
      "32/32 [==============================] - 33s 1s/step - loss: 0.6696 - acc: 0.6328 - val_loss: 0.6635 - val_acc: 0.7292\n",
      "Epoch 5/50\n",
      "32/32 [==============================] - 33s 1s/step - loss: 0.6674 - acc: 0.6172 - val_loss: 0.6633 - val_acc: 0.7292\n",
      "Epoch 6/50\n",
      "32/32 [==============================] - 33s 1s/step - loss: 0.6654 - acc: 0.6230 - val_loss: 0.6648 - val_acc: 0.7292\n",
      "Epoch 7/50\n",
      "32/32 [==============================] - 33s 1s/step - loss: 0.6444 - acc: 0.6387 - val_loss: 0.6537 - val_acc: 0.5833\n",
      "Epoch 8/50\n",
      "32/32 [==============================] - 33s 1s/step - loss: 0.6549 - acc: 0.6484 - val_loss: 0.6252 - val_acc: 0.7292\n",
      "Epoch 9/50\n",
      "32/32 [==============================] - 45s 1s/step - loss: 0.6370 - acc: 0.6523 - val_loss: 0.6290 - val_acc: 0.6667\n",
      "Epoch 10/50\n",
      "32/32 [==============================] - 46s 1s/step - loss: 0.6048 - acc: 0.7051 - val_loss: 0.6522 - val_acc: 0.3333\n",
      "Epoch 11/50\n",
      "32/32 [==============================] - 37s 1s/step - loss: 0.5976 - acc: 0.6816 - val_loss: 0.6255 - val_acc: 0.7083\n",
      "Epoch 12/50\n",
      "32/32 [==============================] - 34s 1s/step - loss: 0.5522 - acc: 0.6934 - val_loss: 0.6062 - val_acc: 0.6667\n",
      "Epoch 13/50\n",
      "32/32 [==============================] - 39s 1s/step - loss: 0.5254 - acc: 0.7539 - val_loss: 0.6111 - val_acc: 0.6667\n",
      "Epoch 14/50\n",
      "32/32 [==============================] - 45s 1s/step - loss: 0.4874 - acc: 0.7812 - val_loss: 0.5903 - val_acc: 0.6667\n",
      "Epoch 15/50\n",
      "32/32 [==============================] - 38s 1s/step - loss: 0.4667 - acc: 0.7773 - val_loss: 0.6538 - val_acc: 0.5625\n",
      "Epoch 16/50\n",
      "32/32 [==============================] - 38s 1s/step - loss: 0.4163 - acc: 0.8184 - val_loss: 0.6574 - val_acc: 0.7500\n",
      "Epoch 17/50\n",
      "32/32 [==============================] - 40s 1s/step - loss: 0.3706 - acc: 0.8535 - val_loss: 0.7155 - val_acc: 0.5625\n",
      "Epoch 18/50\n",
      "32/32 [==============================] - 38s 1s/step - loss: 0.3411 - acc: 0.8516 - val_loss: 0.6704 - val_acc: 0.5833\n",
      "Epoch 19/50\n",
      "32/32 [==============================] - 41s 1s/step - loss: 0.3377 - acc: 0.8555 - val_loss: 0.7756 - val_acc: 0.6042\n",
      "Epoch 20/50\n",
      "32/32 [==============================] - 35s 1s/step - loss: 0.3064 - acc: 0.8770 - val_loss: 0.7078 - val_acc: 0.6458\n",
      "Epoch 21/50\n",
      "32/32 [==============================] - 110s 3s/step - loss: 0.2366 - acc: 0.9062 - val_loss: 0.9070 - val_acc: 0.6250\n",
      "Epoch 22/50\n",
      "32/32 [==============================] - 35s 1s/step - loss: 0.2914 - acc: 0.8809 - val_loss: 0.7605 - val_acc: 0.4792\n",
      "Epoch 23/50\n",
      "32/32 [==============================] - 36s 1s/step - loss: 0.2252 - acc: 0.9355 - val_loss: 1.0369 - val_acc: 0.6667\n",
      "Epoch 24/50\n",
      "32/32 [==============================] - 38s 1s/step - loss: 0.2166 - acc: 0.9219 - val_loss: 0.8473 - val_acc: 0.6875\n",
      "Epoch 25/50\n",
      "32/32 [==============================] - 34s 1s/step - loss: 0.2324 - acc: 0.9219 - val_loss: 0.8351 - val_acc: 0.5625\n",
      "Epoch 26/50\n",
      "32/32 [==============================] - 34s 1s/step - loss: 0.2318 - acc: 0.9199 - val_loss: 0.9621 - val_acc: 0.5000\n",
      "Epoch 27/50\n",
      "32/32 [==============================] - 34s 1s/step - loss: 0.2007 - acc: 0.9336 - val_loss: 0.9502 - val_acc: 0.5417\n",
      "Epoch 28/50\n",
      "32/32 [==============================] - 34s 1s/step - loss: 0.1675 - acc: 0.9453 - val_loss: 1.7143 - val_acc: 0.7292\n",
      "Epoch 29/50\n",
      "32/32 [==============================] - 34s 1s/step - loss: 0.1623 - acc: 0.9434 - val_loss: 1.0631 - val_acc: 0.4792\n",
      "Epoch 30/50\n",
      "32/32 [==============================] - 34s 1s/step - loss: 0.1517 - acc: 0.9473 - val_loss: 1.1712 - val_acc: 0.4583\n",
      "Epoch 31/50\n",
      "32/32 [==============================] - 34s 1s/step - loss: 0.1346 - acc: 0.9434 - val_loss: 1.2595 - val_acc: 0.6667\n",
      "Epoch 32/50\n",
      "32/32 [==============================] - 34s 1s/step - loss: 0.1415 - acc: 0.9434 - val_loss: 1.4558 - val_acc: 0.3125\n",
      "Epoch 33/50\n",
      "32/32 [==============================] - 34s 1s/step - loss: 0.1773 - acc: 0.9414 - val_loss: 1.3226 - val_acc: 0.5208\n",
      "Epoch 34/50\n",
      "32/32 [==============================] - 34s 1s/step - loss: 0.1264 - acc: 0.9531 - val_loss: 1.4508 - val_acc: 0.4167\n",
      "Epoch 35/50\n",
      "32/32 [==============================] - 35s 1s/step - loss: 0.1344 - acc: 0.9512 - val_loss: 1.4665 - val_acc: 0.5833\n",
      "Epoch 36/50\n",
      "32/32 [==============================] - 36s 1s/step - loss: 0.1140 - acc: 0.9629 - val_loss: 1.3690 - val_acc: 0.6250\n",
      "Epoch 37/50\n",
      "32/32 [==============================] - 35s 1s/step - loss: 0.1444 - acc: 0.9492 - val_loss: 1.0276 - val_acc: 0.6458\n",
      "Epoch 38/50\n",
      "32/32 [==============================] - 35s 1s/step - loss: 0.1275 - acc: 0.9688 - val_loss: 1.5187 - val_acc: 0.6250\n",
      "Epoch 39/50\n",
      "32/32 [==============================] - 35s 1s/step - loss: 0.1131 - acc: 0.9551 - val_loss: 1.3528 - val_acc: 0.5417\n",
      "Epoch 40/50\n",
      "32/32 [==============================] - 35s 1s/step - loss: 0.1266 - acc: 0.9668 - val_loss: 1.5161 - val_acc: 0.5208\n",
      "Epoch 41/50\n",
      "32/32 [==============================] - 40s 1s/step - loss: 0.1296 - acc: 0.9492 - val_loss: 1.5395 - val_acc: 0.7292\n",
      "Epoch 42/50\n",
      "32/32 [==============================] - 45s 1s/step - loss: 0.1031 - acc: 0.9707 - val_loss: 1.6078 - val_acc: 0.6250\n",
      "Epoch 43/50\n",
      "32/32 [==============================] - 44s 1s/step - loss: 0.0684 - acc: 0.9688 - val_loss: 1.2436 - val_acc: 0.5625\n",
      "Epoch 44/50\n",
      "32/32 [==============================] - 38s 1s/step - loss: 0.1014 - acc: 0.9688 - val_loss: 1.3977 - val_acc: 0.4583\n",
      "Epoch 45/50\n",
      "32/32 [==============================] - 39s 1s/step - loss: 0.1056 - acc: 0.9727 - val_loss: 1.3964 - val_acc: 0.5000\n",
      "Epoch 46/50\n",
      "32/32 [==============================] - 38s 1s/step - loss: 0.0956 - acc: 0.9629 - val_loss: 1.2885 - val_acc: 0.5625\n",
      "Epoch 47/50\n",
      "32/32 [==============================] - 37s 1s/step - loss: 0.1095 - acc: 0.9688 - val_loss: 1.9508 - val_acc: 0.5625\n",
      "Epoch 48/50\n",
      "32/32 [==============================] - 36s 1s/step - loss: 0.0842 - acc: 0.9707 - val_loss: 1.8337 - val_acc: 0.6250\n",
      "Epoch 49/50\n",
      "32/32 [==============================] - 33s 1s/step - loss: 0.0689 - acc: 0.9746 - val_loss: 1.7614 - val_acc: 0.6250\n",
      "Epoch 50/50\n",
      "32/32 [==============================] - 33s 1s/step - loss: 0.0627 - acc: 0.9746 - val_loss: 2.6887 - val_acc: 0.7292\n"
     ]
    },
    {
     "ename": "NameError",
     "evalue": "name 'model' is not defined",
     "output_type": "error",
     "traceback": [
      "\u001b[0;31m---------------------------------------------------------------------------\u001b[0m",
      "\u001b[0;31mNameError\u001b[0m                                 Traceback (most recent call last)",
      "\u001b[0;32m<ipython-input-13-c63c29bcff4b>\u001b[0m in \u001b[0;36m<module>\u001b[0;34m()\u001b[0m\n\u001b[1;32m      8\u001b[0m                     \u001b[0mvalidation_data\u001b[0m\u001b[0;34m=\u001b[0m\u001b[0mtest_set\u001b[0m\u001b[0;34m,\u001b[0m\u001b[0;34m\u001b[0m\u001b[0m\n\u001b[1;32m      9\u001b[0m                     validation_steps=t2)\n\u001b[0;32m---> 10\u001b[0;31m \u001b[0mmodel\u001b[0m\u001b[0;34m.\u001b[0m\u001b[0msave_weights\u001b[0m\u001b[0;34m(\u001b[0m\u001b[0msave_path\u001b[0m\u001b[0;34m)\u001b[0m\u001b[0;34m\u001b[0m\u001b[0m\n\u001b[0m",
      "\u001b[0;31mNameError\u001b[0m: name 'model' is not defined"
     ]
    }
   ],
   "source": [
    "t1 = nb_train_samples // batch_size\n",
    "t2 = nb_validation_samples // batch_size\n",
    "\n",
    "classifier.fit_generator(\n",
    "                    training_set,\n",
    "                    steps_per_epoch=t1,\n",
    "                    epochs=epochs,\n",
    "                    validation_data=test_set,\n",
    "                    validation_steps=t2)\n"
   ]
  },
  {
   "cell_type": "code",
   "execution_count": 20,
   "metadata": {},
   "outputs": [],
   "source": [
    "directory = os.getcwd()\n",
    "h5File = directory + \"/model.h5\"\n",
    "classifier.save_weights(h5File)"
   ]
  },
  {
   "cell_type": "code",
   "execution_count": 117,
   "metadata": {},
   "outputs": [],
   "source": [
    "import numpy as np\n",
    "predict = (classifier.predict_generator(test_set) > 0.011).astype(int)\n",
    "numpy_array = np.array(predict)\n",
    "predict = numpy_array.reshape((1,-1))[0]"
   ]
  },
  {
   "cell_type": "code",
   "execution_count": 118,
   "metadata": {},
   "outputs": [],
   "source": [
    "real = test_set[0][1]"
   ]
  },
  {
   "cell_type": "code",
   "execution_count": 122,
   "metadata": {},
   "outputs": [
    {
     "data": {
      "text/plain": [
       "array([ 1.,  1.,  1.,  1.,  1.,  1.,  0.,  1.,  0.,  1.,  1.,  1.,  1.,\n",
       "        0.,  0.,  1.], dtype=float32)"
      ]
     },
     "execution_count": 122,
     "metadata": {},
     "output_type": "execute_result"
    }
   ],
   "source": [
    "real"
   ]
  },
  {
   "cell_type": "code",
   "execution_count": null,
   "metadata": {},
   "outputs": [],
   "source": []
  }
 ],
 "metadata": {
  "kernelspec": {
   "display_name": "Python 3",
   "language": "python",
   "name": "python3"
  },
  "language_info": {
   "codemirror_mode": {
    "name": "ipython",
    "version": 3
   },
   "file_extension": ".py",
   "mimetype": "text/x-python",
   "name": "python",
   "nbconvert_exporter": "python",
   "pygments_lexer": "ipython3",
   "version": "3.6.4"
  }
 },
 "nbformat": 4,
 "nbformat_minor": 2
}
